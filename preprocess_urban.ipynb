{
 "cells": [
  {
   "cell_type": "markdown",
   "metadata": {},
   "source": [
    "# UrbanSound8K pre-processing\n",
    "\n",
    "It creates three files, `train`, `valid`, and `test` + `.h5`\n",
    "\n",
    "Split: folder 1-8: train, 9:valid, 10:test\n",
    "\n",
    "By Keunwoo Choi. 29 Nov 2016."
   ]
  },
  {
   "cell_type": "markdown",
   "metadata": {},
   "source": [
    "### Load things"
   ]
  },
  {
   "cell_type": "code",
   "execution_count": 52,
   "metadata": {
    "collapsed": false
   },
   "outputs": [],
   "source": [
    "%matplotlib notebook\n",
    "import matplotlib.pyplot as plt\n",
    "import numpy as np\n",
    "import h5py\n",
    "import librosa\n",
    "import os, sys\n",
    "import pandas as pd "
   ]
  },
  {
   "cell_type": "markdown",
   "metadata": {},
   "source": [
    "### Setup path\n",
    "\n",
    "**Change these to your setup**\n",
    "\n",
    "* **`PATH_US`**: audio folder path\n",
    "* **`path_csv`**: csv file path\n",
    "* **`PATH_HDF`**: output HDF folder path \n"
   ]
  },
  {
   "cell_type": "code",
   "execution_count": 12,
   "metadata": {
    "collapsed": true
   },
   "outputs": [],
   "source": [
    "PATH_US = '/misc/kcgscratch1/ChoGroup/keunwoo/UrbanSound8K/audio/'\n",
    "path_csv = '/misc/kcgscratch1/ChoGroup/keunwoo/UrbanSound8K/metadata/UrbanSound8K.csv'\n",
    "PATH_HDF = '/misc/kcgscratch1/ChoGroup/keunwoo/urbansound8k_hdf/'\n",
    "# slice_file_name\tfsID\tstart\tend\tsalience\tfold\tclassID\tclass\n",
    "# 100032-3-0-0.wav\t100032\t0\t0.317551\t1\t5\t3\tdog_bark\n",
    "# 100263-2-0-117.wav\t100263\t58.5\t62.5\t1\t5\t2\tchildren_playing\n",
    "# 100263-2-0-121.wav\t100263\t60.5\t64.5\t1\t5\t2\tchildren_playing"
   ]
  },
  {
   "cell_type": "code",
   "execution_count": 45,
   "metadata": {
    "collapsed": true
   },
   "outputs": [],
   "source": [
    "fold_folders = ['fold%d/' % i for i in range(1, 11)]\n",
    "n_label = 10 # 0 - 9"
   ]
  },
  {
   "cell_type": "markdown",
   "metadata": {},
   "source": [
    "### Audio stuff\n",
    "* **Modify these if you want. **"
   ]
  },
  {
   "cell_type": "code",
   "execution_count": 53,
   "metadata": {
    "collapsed": true
   },
   "outputs": [],
   "source": [
    "# audio\n",
    "SR = 12000 # [Hz]\n",
    "max_len = 4.0 # [Seconds]. should be < 4.0. I recommend not to change it. \n",
    "n_mels = 96\n",
    "n_fft = 512\n",
    "n_hop = 256\n",
    "\n",
    "def process_audio(src, sr):\n",
    "    melgram = librosa.feature.melspectrogram(src, sr, n_fft=n_fft, hop_length=n_hop, n_mels=n_mels)\n",
    "    melgram = np.abs(melgram)\n",
    "    return librosa.logamplitude(melgram**2)"
   ]
  },
  {
   "cell_type": "code",
   "execution_count": 47,
   "metadata": {
    "collapsed": false
   },
   "outputs": [
    {
     "name": "stdout",
     "output_type": "stream",
     "text": [
      "(96, 188)\n"
     ]
    },
    {
     "name": "stderr",
     "output_type": "stream",
     "text": [
      "/misc/kcgscratch1/ChoGroup/keunwoo/venv_k110/lib/python2.7/site-packages/ipykernel/__main__.py:1: VisibleDeprecationWarning: using a non-integer number instead of an integer will result in an error in the future\n",
      "  if __name__ == '__main__':\n"
     ]
    }
   ],
   "source": [
    "mel_shape = librosa.feature.melspectrogram(np.zeros(SR*max_len), SR, n_fft=n_fft, hop_length=n_hop, n_mels=n_mels).shape\n",
    "print mel_shape\n",
    "n_mel_fr = mel_shape[1]"
   ]
  },
  {
   "cell_type": "markdown",
   "metadata": {},
   "source": [
    "## Load csv"
   ]
  },
  {
   "cell_type": "code",
   "execution_count": 51,
   "metadata": {
    "collapsed": false
   },
   "outputs": [
    {
     "name": "stdout",
     "output_type": "stream",
     "text": [
      "(8732, 8)\n",
      "7079 816 837\n"
     ]
    }
   ],
   "source": [
    "df = pd.read_csv(path_csv, header=0)\n",
    "print df.shape\n",
    "n_data_all = df.shape[0]\n",
    "n_valid = len(df[df['fold']==9])\n",
    "n_test = len(df[df['fold']==10])\n",
    "n_train = n_data_all - n_valid - n_test\n",
    "print n_train, n_valid, n_test"
   ]
  },
  {
   "cell_type": "markdown",
   "metadata": {},
   "source": [
    "### A function to load audio, compute melgram, and store into HDF"
   ]
  },
  {
   "cell_type": "code",
   "execution_count": 41,
   "metadata": {
    "collapsed": false
   },
   "outputs": [],
   "source": [
    "def set_to_hdf(hdf_filepath, df_subset):\n",
    "    num_data = len(df_subset)\n",
    "    with h5py.File(hdf_filepath, 'w') as f_hdf:\n",
    "        ds_melgram = f_hdf.create_dataset('melgram', (num_data, n_mels, n_mel_fr), dtype='float32')\n",
    "        ds_y = f_hdf.create_dataset('y', (num_data, n_label), dtype='bool')\n",
    "        for row_idx, row in enumerate(df_subset.itertuples()):\n",
    "            fname, fold, y = row[1], row[6], row[7]\n",
    "            folder = fold_folders[fold-1]\n",
    "            src, sr = librosa.load(PATH_US + folder + fname, SR)\n",
    "\n",
    "            melgram = process_audio(src, SR)\n",
    "            shape_here = melgram.shape\n",
    "            ds_y[row_idx, y] = True\n",
    "            ds_melgram[row_idx, :, :min(n_mel_fr, shape_here[1])] = melgram[:, :n_mel_fr]\n",
    "            if row_idx % 20 == 0:\n",
    "                sys.stdout.write('\\r%d/%d-th sample was written just now.' % (row_idx+1, num_data))\n",
    "    print '\\n'\n"
   ]
  },
  {
   "cell_type": "markdown",
   "metadata": {},
   "source": [
    "### Do it!"
   ]
  },
  {
   "cell_type": "code",
   "execution_count": 43,
   "metadata": {
    "collapsed": false
   },
   "outputs": [
    {
     "name": "stdout",
     "output_type": "stream",
     "text": [
      "7061/7079-th sample was written just now."
     ]
    }
   ],
   "source": [
    "set_to_hdf(PATH_HDF+'valid.h5', df[df['fold']==9], )\n",
    "set_to_hdf(PATH_HDF+'test.h5', df[df['fold']==10], )\n",
    "set_to_hdf(PATH_HDF+'train.h5', df[df['fold'] < 9], )"
   ]
  },
  {
   "cell_type": "markdown",
   "metadata": {},
   "source": [
    "## Done."
   ]
  }
 ],
 "metadata": {
  "kernelspec": {
   "display_name": "Python 2",
   "language": "python",
   "name": "python2"
  },
  "language_info": {
   "codemirror_mode": {
    "name": "ipython",
    "version": 2
   },
   "file_extension": ".py",
   "mimetype": "text/x-python",
   "name": "python",
   "nbconvert_exporter": "python",
   "pygments_lexer": "ipython2",
   "version": "2.7.5"
  }
 },
 "nbformat": 4,
 "nbformat_minor": 1
}
